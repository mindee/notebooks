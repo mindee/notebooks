{
  "nbformat": 4,
  "nbformat_minor": 0,
  "metadata": {
    "interpreter": {
      "hash": "103ff19777622dbbd1c8370264e2f56c4c49c75e119dc12fd0a9f41eba03d66f"
    },
    "kernelspec": {
      "display_name": "Python 3.8.10 64-bit ('work': conda)",
      "language": "python",
      "name": "python3"
    },
    "language_info": {
      "codemirror_mode": {
        "name": "ipython",
        "version": 3
      },
      "file_extension": ".py",
      "mimetype": "text/x-python",
      "name": "python",
      "nbconvert_exporter": "python",
      "pygments_lexer": "ipython3",
      "version": "3.8.10"
    },
    "orig_nbformat": 4,
    "colab": {
      "name": "generate_pdfa_from_doctr_output.ipynb",
      "provenance": []
    }
  },
  "cells": [
    {
      "cell_type": "markdown",
      "metadata": {
        "id": "ID2g9XHMvAXO"
      },
      "source": [
        "# Tutorial: Generate PDF/A from docTR output\n",
        "\n",
        "### This files have also a readable textlayer on top of the Image which can be used to search in the document with any PDF Viewer."
      ]
    },
    {
      "cell_type": "code",
      "metadata": {
        "id": "sPMz5UYUvAXQ",
        "outputId": "6b4284e0-0efe-4443-911b-840e90145716"
      },
      "source": [
        "!pip3 install git+https://github.com/mindee/doctr.git\n",
        "!pip3 install reportlab>=3.6.2\n",
        "# optional if you want to merge multiple pdfs\n",
        "!pip3 install PyPDF2==1.26.0"
      ],
      "execution_count": null,
      "outputs": [
        {
          "name": "stdout",
          "output_type": "stream",
          "text": [
            "Collecting git+https://github.com/mindee/doctr.git\n",
            "  Cloning https://github.com/mindee/doctr.git to /tmp/pip-req-build-sfrevg7w\n",
            "  Running command git clone -q https://github.com/mindee/doctr.git /tmp/pip-req-build-sfrevg7w\n",
            "Requirement already satisfied: numpy>=1.16.0 in /home/felix/anaconda3/envs/work/lib/python3.8/site-packages (from python-doctr==0.4.1a0) (1.21.1)\n",
            "Requirement already satisfied: scipy>=1.4.0 in /home/felix/.local/lib/python3.8/site-packages (from python-doctr==0.4.1a0) (1.7.0)\n",
            "Requirement already satisfied: opencv-python>=4.2 in /home/felix/anaconda3/envs/work/lib/python3.8/site-packages (from python-doctr==0.4.1a0) (4.5.4.58)\n",
            "Requirement already satisfied: PyMuPDF<1.18.11,>=1.16.0 in /home/felix/anaconda3/envs/work/lib/python3.8/site-packages (from python-doctr==0.4.1a0) (1.18.10)\n",
            "Requirement already satisfied: pyclipper>=1.2.0 in /home/felix/anaconda3/envs/work/lib/python3.8/site-packages (from python-doctr==0.4.1a0) (1.3.0)\n",
            "Requirement already satisfied: shapely>=1.6.0 in /home/felix/anaconda3/envs/work/lib/python3.8/site-packages (from python-doctr==0.4.1a0) (1.7.1)\n",
            "Requirement already satisfied: matplotlib<3.4.3,>=3.1.0 in /home/felix/anaconda3/envs/work/lib/python3.8/site-packages (from python-doctr==0.4.1a0) (3.3.4)\n",
            "Requirement already satisfied: mplcursors>=0.3 in /home/felix/anaconda3/envs/work/lib/python3.8/site-packages (from python-doctr==0.4.1a0) (0.4)\n",
            "Requirement already satisfied: weasyprint<53.0,>=52.2 in /home/felix/anaconda3/envs/work/lib/python3.8/site-packages (from python-doctr==0.4.1a0) (52.5)\n",
            "Requirement already satisfied: unidecode>=1.0.0 in /home/felix/anaconda3/envs/work/lib/python3.8/site-packages (from python-doctr==0.4.1a0) (1.3.2)\n",
            "Requirement already satisfied: Pillow>=8.3.2 in /home/felix/anaconda3/envs/work/lib/python3.8/site-packages (from python-doctr==0.4.1a0) (8.3.2)\n",
            "Requirement already satisfied: tqdm>=4.30.0 in /home/felix/anaconda3/envs/work/lib/python3.8/site-packages (from python-doctr==0.4.1a0) (4.62.3)\n",
            "Requirement already satisfied: rapidfuzz>=1.6.0 in /home/felix/anaconda3/envs/work/lib/python3.8/site-packages (from python-doctr==0.4.1a0) (1.7.0)\n",
            "Requirement already satisfied: cycler>=0.10 in /home/felix/.local/lib/python3.8/site-packages (from matplotlib<3.4.3,>=3.1.0->python-doctr==0.4.1a0) (0.10.0)\n",
            "Requirement already satisfied: pyparsing!=2.0.4,!=2.1.2,!=2.1.6,>=2.0.3 in /home/felix/.local/lib/python3.8/site-packages (from matplotlib<3.4.3,>=3.1.0->python-doctr==0.4.1a0) (2.4.7)\n",
            "Requirement already satisfied: kiwisolver>=1.0.1 in /home/felix/.local/lib/python3.8/site-packages (from matplotlib<3.4.3,>=3.1.0->python-doctr==0.4.1a0) (1.3.1)\n",
            "Requirement already satisfied: python-dateutil>=2.1 in /home/felix/anaconda3/envs/work/lib/python3.8/site-packages (from matplotlib<3.4.3,>=3.1.0->python-doctr==0.4.1a0) (2.8.2)\n",
            "Requirement already satisfied: six in /home/felix/anaconda3/envs/work/lib/python3.8/site-packages (from cycler>=0.10->matplotlib<3.4.3,>=3.1.0->python-doctr==0.4.1a0) (1.16.0)\n",
            "Requirement already satisfied: html5lib>=0.999999999 in /home/felix/anaconda3/envs/work/lib/python3.8/site-packages (from weasyprint<53.0,>=52.2->python-doctr==0.4.1a0) (1.1)\n",
            "Requirement already satisfied: cairocffi>=0.9.0 in /home/felix/anaconda3/envs/work/lib/python3.8/site-packages (from weasyprint<53.0,>=52.2->python-doctr==0.4.1a0) (1.2.0)\n",
            "Requirement already satisfied: cffi>=0.6 in /home/felix/anaconda3/envs/work/lib/python3.8/site-packages (from weasyprint<53.0,>=52.2->python-doctr==0.4.1a0) (1.14.6)\n",
            "Requirement already satisfied: cssselect2>=0.1 in /home/felix/anaconda3/envs/work/lib/python3.8/site-packages (from weasyprint<53.0,>=52.2->python-doctr==0.4.1a0) (0.4.1)\n",
            "Requirement already satisfied: CairoSVG>=2.4.0 in /home/felix/anaconda3/envs/work/lib/python3.8/site-packages (from weasyprint<53.0,>=52.2->python-doctr==0.4.1a0) (2.5.2)\n",
            "Requirement already satisfied: tinycss2>=1.0.0 in /home/felix/anaconda3/envs/work/lib/python3.8/site-packages (from weasyprint<53.0,>=52.2->python-doctr==0.4.1a0) (1.1.0)\n",
            "Requirement already satisfied: setuptools>=39.2.0 in /home/felix/anaconda3/envs/work/lib/python3.8/site-packages (from weasyprint<53.0,>=52.2->python-doctr==0.4.1a0) (52.0.0.post20210125)\n",
            "Requirement already satisfied: Pyphen>=0.9.1 in /home/felix/anaconda3/envs/work/lib/python3.8/site-packages (from weasyprint<53.0,>=52.2->python-doctr==0.4.1a0) (0.11.0)\n",
            "Requirement already satisfied: defusedxml in /home/felix/anaconda3/envs/work/lib/python3.8/site-packages (from CairoSVG>=2.4.0->weasyprint<53.0,>=52.2->python-doctr==0.4.1a0) (0.7.1)\n",
            "Requirement already satisfied: pycparser in /home/felix/anaconda3/envs/work/lib/python3.8/site-packages (from cffi>=0.6->weasyprint<53.0,>=52.2->python-doctr==0.4.1a0) (2.20)\n",
            "Requirement already satisfied: webencodings in /home/felix/anaconda3/envs/work/lib/python3.8/site-packages (from cssselect2>=0.1->weasyprint<53.0,>=52.2->python-doctr==0.4.1a0) (0.5.1)\n",
            "Building wheels for collected packages: python-doctr\n",
            "  Building wheel for python-doctr (setup.py) ... \u001b[?25ldone\n",
            "\u001b[?25h  Created wheel for python-doctr: filename=python_doctr-0.4.1a0-py3-none-any.whl size=163007 sha256=169a9bd0d2f7299ab123e2434a32ddc6a6ce6006df1d0b7633c1e8341811f71f\n",
            "  Stored in directory: /tmp/pip-ephem-wheel-cache-6sznrs3k/wheels/94/06/be/fd9b2fc506908bb3821b238760aad02b5b37dda25bc0acb0cb\n",
            "Successfully built python-doctr\n",
            "Installing collected packages: python-doctr\n",
            "  Attempting uninstall: python-doctr\n",
            "    Found existing installation: python-doctr 0.4.1a0\n",
            "    Uninstalling python-doctr-0.4.1a0:\n",
            "      Successfully uninstalled python-doctr-0.4.1a0\n",
            "Successfully installed python-doctr-0.4.1a0\n",
            "Requirement already satisfied: PyPDF2==1.26.0 in /home/felix/anaconda3/envs/work/lib/python3.8/site-packages (1.26.0)\n"
          ]
        }
      ]
    },
    {
      "cell_type": "code",
      "metadata": {
        "id": "ZC8sIbEZvAXS"
      },
      "source": [
        "# Imports\n",
        "import re\n",
        "from math import atan, cos, sin\n",
        "from typing import Dict, Optional, Tuple\n",
        "from xml.etree import ElementTree as ET\n",
        "from xml.etree.ElementTree import Element\n",
        "\n",
        "import numpy as np\n",
        "from doctr.io import DocumentFile\n",
        "from doctr.models import ocr_predictor\n",
        "from PIL import Image\n",
        "from reportlab.lib.colors import black\n",
        "from reportlab.lib.units import inch\n",
        "from reportlab.lib.utils import ImageReader\n",
        "from reportlab.pdfgen.canvas import Canvas"
      ],
      "execution_count": null,
      "outputs": []
    },
    {
      "cell_type": "markdown",
      "metadata": {
        "id": "Aa9PoeOdvAXS"
      },
      "source": [
        "# 1. define the hOCR (xml) parser"
      ]
    },
    {
      "cell_type": "code",
      "metadata": {
        "id": "pblMOnCovAXT"
      },
      "source": [
        "class HocrParser():\n",
        "\n",
        "    def __init__(self):\n",
        "        self.box_pattern = re.compile(r'bbox((\\s+\\d+){4})')\n",
        "        self.baseline_pattern = re.compile(r'baseline((\\s+[\\d\\.\\-]+){2})')\n",
        "\n",
        "    def _element_coordinates(self, element: Element) -> Dict:\n",
        "        \"\"\"\n",
        "        Returns a tuple containing the coordinates of the bounding box around\n",
        "        an element\n",
        "        \"\"\"\n",
        "        out = out = {'x1': 0, 'y1': 0, 'x2': 0, 'y2': 0}\n",
        "        if 'title' in element.attrib:\n",
        "            matches = self.box_pattern.search(element.attrib['title'])\n",
        "            if matches:\n",
        "                coords = matches.group(1).split()\n",
        "                out = {'x1': int(coords[0]), 'y1': int(\n",
        "                    coords[1]), 'x2': int(coords[2]), 'y2': int(coords[3])}\n",
        "        return out\n",
        "\n",
        "    def _get_baseline(self, element: Element) -> Tuple[float, float]:\n",
        "        \"\"\"\n",
        "        Returns a tuple containing the baseline slope and intercept.\n",
        "        \"\"\"\n",
        "        if 'title' in element.attrib:\n",
        "            matches = self.baseline_pattern.search(\n",
        "                element.attrib['title']).group(1).split()\n",
        "            if matches:\n",
        "                return float(matches[0]), float(matches[1])\n",
        "        return (0.0, 0.0)\n",
        "\n",
        "    def _pt_from_pixel(self, pxl: Dict, dpi: int) -> Dict:\n",
        "        \"\"\"\n",
        "        Returns the quantity in PDF units (pt) given quantity in pixels\n",
        "        \"\"\"\n",
        "        pt = [(c / dpi * inch) for c in pxl.values()]\n",
        "        return {'x1': pt[0], 'y1': pt[1], 'x2': pt[2], 'y2': pt[3]}\n",
        "\n",
        "    def _get_element_text(self, element: Element) -> str:\n",
        "        \"\"\"\n",
        "        Return the textual content of the element and its children\n",
        "        \"\"\"\n",
        "        text = ''\n",
        "        if element.text is not None:\n",
        "            text += element.text\n",
        "        for child in element:\n",
        "            text += self._get_element_text(child)\n",
        "        if element.tail is not None:\n",
        "            text += element.tail\n",
        "        return text\n",
        "\n",
        "    def export_pdfa(self,\n",
        "                    out_filename: str,\n",
        "                    hocr: ET.ElementTree,\n",
        "                    image: Optional[np.ndarray] = None,\n",
        "                    fontname: str = \"Times-Roman\",\n",
        "                    fontsize: int = 12,\n",
        "                    invisible_text: bool = True,\n",
        "                    dpi: int = 300):\n",
        "        \"\"\"\n",
        "        Generates a PDF/A document from a hOCR document.\n",
        "        \"\"\"\n",
        "\n",
        "        width, height = None, None\n",
        "        # Get the image dimensions\n",
        "        for div in hocr.findall(\".//div[@class='ocr_page']\"):\n",
        "            coords = self._element_coordinates(div)\n",
        "            pt_coords = self._pt_from_pixel(coords, dpi)\n",
        "            width, height = pt_coords['x2'] - \\\n",
        "                pt_coords['x1'], pt_coords['y2'] - pt_coords['y1']\n",
        "            # after catch break loop\n",
        "            break\n",
        "        if width is None or height is None:\n",
        "            raise ValueError(\"Could not determine page size\")\n",
        "\n",
        "        pdf = Canvas(out_filename, pagesize=(width, height), pageCompression=1)\n",
        "\n",
        "        span_elements = [element for element in hocr.iterfind(\".//span\")]\n",
        "        for line in span_elements:\n",
        "            if 'class' in line.attrib and line.attrib['class'] == 'ocr_line' and line is not None:\n",
        "                # get information from xml\n",
        "                pxl_line_coords = self._element_coordinates(line)\n",
        "                line_box = self._pt_from_pixel(pxl_line_coords, dpi)\n",
        "\n",
        "                # compute baseline\n",
        "                slope, pxl_intercept = self._get_baseline(line)\n",
        "                if abs(slope) < 0.005:\n",
        "                    slope = 0.0\n",
        "                angle = atan(slope)\n",
        "                cos_a, sin_a = cos(angle), sin(angle)\n",
        "                intercept = pxl_intercept / dpi * inch\n",
        "                baseline_y2 = height - (line_box['y2'] + intercept)\n",
        "\n",
        "                # configure options\n",
        "                text = pdf.beginText()\n",
        "                text.setFont(fontname, fontsize)\n",
        "                pdf.setFillColor(black)\n",
        "                if invisible_text:\n",
        "                    text.setTextRenderMode(3)  # invisible text\n",
        "\n",
        "                # transform overlayed text\n",
        "                text.setTextTransform(\n",
        "                    cos_a, -sin_a, sin_a, cos_a, line_box['x1'], baseline_y2)\n",
        "\n",
        "                elements = line.findall(\".//span[@class='ocrx_word']\")\n",
        "                for elem in elements:\n",
        "                    elemtxt = self._get_element_text(elem).strip()\n",
        "                    # replace unsupported characters\n",
        "                    elemtxt = elemtxt.translate(str.maketrans(\n",
        "                        {'ﬀ': 'ff', 'ﬃ': 'f‌f‌i', 'ﬄ': 'f‌f‌l', 'ﬁ': 'fi', 'ﬂ': 'fl'}))\n",
        "                    if not elemtxt:\n",
        "                        continue\n",
        "\n",
        "                    # compute string width\n",
        "                    pxl_coords = self._element_coordinates(elem)\n",
        "                    box = self._pt_from_pixel(pxl_coords, dpi)\n",
        "                    box_width = box['x2'] - box['x1']\n",
        "                    font_width = pdf.stringWidth(elemtxt, fontname, fontsize)\n",
        "\n",
        "                    # Adjust relative position of cursor\n",
        "                    cursor = text.getStartOfLine()\n",
        "                    dx = box['x1'] - cursor[0]\n",
        "                    dy = baseline_y2 - cursor[1]\n",
        "                    text.moveCursor(dx, dy)\n",
        "\n",
        "                    # suppress text if it is 0 units wide\n",
        "                    if font_width > 0:\n",
        "                        text.setHorizScale(100 * box_width / font_width)\n",
        "                        text.textOut(elemtxt)\n",
        "                pdf.drawText(text)\n",
        "\n",
        "        # overlay image if provided\n",
        "        if image is not None:\n",
        "            pdf.drawImage(ImageReader(Image.fromarray(image)),\n",
        "                          0, 0, width=width, height=height)\n",
        "        pdf.save()"
      ],
      "execution_count": null,
      "outputs": []
    },
    {
      "cell_type": "markdown",
      "metadata": {
        "id": "hzpt5nHFvAXe"
      },
      "source": [
        "# 2. get the results from doctr OCR"
      ]
    },
    {
      "cell_type": "code",
      "metadata": {
        "id": "HjhRaZ6tvAXe"
      },
      "source": [
        "model = ocr_predictor(det_arch='db_resnet50', reco_arch='crnn_vgg16_bn', pretrained=True)\n",
        "img_docs = DocumentFile.from_images([\"1.jpg\", \"2.jpg\"])\n",
        "result = model(img_docs)"
      ],
      "execution_count": null,
      "outputs": []
    },
    {
      "cell_type": "markdown",
      "metadata": {
        "id": "MiA8N21GvAXf"
      },
      "source": [
        "# 3. export the results to PDF/A (with the textlayer)\n",
        "## We show 3 options:\n",
        "### * all as single pdfs\n",
        "### * all merged in one pdf\n",
        "### * all as base64 encoded pdfs"
      ]
    },
    {
      "cell_type": "code",
      "metadata": {
        "id": "2dDy5t1UvAXf"
      },
      "source": [
        "# returns: list of tuple where the first element is the (bytes) xml string and the second is the ElementTree\n",
        "xml_outputs = result.export_as_xml()\n",
        "\n",
        "# init the above parser\n",
        "parser = HocrParser()\n",
        "\n",
        "# iterate through the xml outputs and images and export to pdf/a\n",
        "# the image is optional else you can set invisible_text=False and the text will be printed on a blank page\n",
        "for i, (xml, img) in enumerate(zip(xml_outputs, img_docs)):\n",
        "    xml_element_tree = xml[1]\n",
        "    parser.export_pdfa(f'{i}.pdf', hocr=xml_element_tree, image=img)"
      ],
      "execution_count": null,
      "outputs": []
    },
    {
      "cell_type": "code",
      "metadata": {
        "id": "SkEZrL-hvAXg"
      },
      "source": [
        "from tempfile import TemporaryDirectory\n",
        "from PyPDF2 import PdfFileMerger\n",
        "\n",
        "# returns: list of tuple where the first element is the (bytes) xml string and the second is the ElementTree\n",
        "xml_outputs = result.export_as_xml()\n",
        "\n",
        "# init the above parser\n",
        "parser = HocrParser()\n",
        "\n",
        "# you can also merge multiple pdfs into one\n",
        "\n",
        "merger = PdfFileMerger()\n",
        "for i, (xml, img) in enumerate(zip(xml_outputs, img_docs)):\n",
        "    xml_element_tree = xml[1]\n",
        "    with TemporaryDirectory() as tmpdir:\n",
        "        parser.export_pdfa(f'{tmpdir}/{i}.pdf', hocr=xml_element_tree, image=img)\n",
        "        merger.append(f'{tmpdir}/{i}.pdf')\n",
        "merger.write(f'docTR-PDF.pdf')"
      ],
      "execution_count": null,
      "outputs": []
    },
    {
      "cell_type": "code",
      "metadata": {
        "id": "owWVIPcKvAXg",
        "outputId": "ad9b4eda-146b-4ab1-c613-06af4afce64b"
      },
      "source": [
        "import base64\n",
        "from tempfile import TemporaryDirectory\n",
        "\n",
        "# returns: list of tuple where the first element is the (bytes) xml string and the second is the ElementTree\n",
        "xml_outputs = result.export_as_xml()\n",
        "\n",
        "# init the above parser\n",
        "parser = HocrParser()\n",
        "\n",
        "# or encode the pdfs into base64 (Rest API usage)\n",
        "\n",
        "base64_encoded_pdfs = list()\n",
        "for i, (xml, img) in enumerate(zip(xml_outputs, img_docs)):\n",
        "    xml_element_tree = xml[1]\n",
        "    with TemporaryDirectory() as tmpdir:\n",
        "        parser.export_pdfa(f'{tmpdir}/{i}.pdf',\n",
        "                           hocr=xml_element_tree, image=img)\n",
        "        with open(f'{tmpdir}/{i}.pdf', 'rb') as f:\n",
        "            base64_encoded_pdfs.append(base64.b64encode(f.read()))\n",
        "print(f'{len(base64_encoded_pdfs)} pdfs encoded')"
      ],
      "execution_count": null,
      "outputs": [
        {
          "name": "stdout",
          "output_type": "stream",
          "text": [
            "2 pdfs encoded\n"
          ]
        }
      ]
    }
  ]
}