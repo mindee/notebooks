{
  "cells": [
    {
      "cell_type": "markdown",
      "metadata": {
        "id": "ID2g9XHMvAXO"
      },
      "source": [
        "# Generate PDF/A files from docTR output\n",
        "\n",
        "These files have also a readable text layer on top of the image, which can be used to search in a document with any PDF-Viewer."
      ]
    },
    {
      "cell_type": "code",
      "execution_count": null,
      "metadata": {
        "id": "sPMz5UYUvAXQ"
      },
      "outputs": [],
      "source": [
        "# Install the most up-to-date version from GitHub\n",
        "!pip install python-doctr[viz]@git+https://github.com/mindee/doctr.git\n",
        "\n",
        "# Install additional requirements (for hOCR conversion and PDF file merging)\n",
        "!pip install ocrmypdf\n",
        "!pip install PyPDF2"
      ]
    },
    {
      "cell_type": "markdown",
      "metadata": {
        "id": "165zmKJeC5a4"
      },
      "source": [
        "We will use `ocrmypdf` to parse our exported XML-Tree/File in hOCR format ([hOCR convention](https://github.com/kba/hocr-spec/blob/master/1.2/spec.md)) and `PyPDF` to merge the single generated PDF/A files into one."
      ]
    },
    {
      "cell_type": "code",
      "execution_count": 34,
      "metadata": {
        "id": "ZC8sIbEZvAXS"
      },
      "outputs": [],
      "source": [
        "# Imports\n",
        "import os\n",
        "import base64\n",
        "import re\n",
        "from tempfile import TemporaryDirectory\n",
        "\n",
        "from PyPDF2 import PdfMerger, PdfReader\n",
        "from doctr.io import DocumentFile\n",
        "from doctr.models import ocr_predictor, from_hub\n",
        "from PIL import Image\n",
        "from ocrmypdf.hocrtransform import HocrTransform"
      ]
    },
    {
      "cell_type": "markdown",
      "metadata": {
        "id": "hzpt5nHFvAXe"
      },
      "source": [
        "## OCR the files and show the results\n",
        "\n",
        "Now we are ready to start the OCR process and show the results."
      ]
    },
    {
      "cell_type": "code",
      "execution_count": null,
      "metadata": {
        "id": "HjhRaZ6tvAXe"
      },
      "outputs": [],
      "source": [
        "# Download a sample\n",
        "!wget https://github.com/mindee/doctr/releases/download/v0.1.0/Versicherungsbedingungen-08-2021.pdf"
      ]
    },
    {
      "cell_type": "code",
      "execution_count": null,
      "metadata": {
        "id": "ytK2KRfR_XIg"
      },
      "outputs": [],
      "source": [
        "# Read the file\n",
        "docs = DocumentFile.from_pdf(\"Versicherungsbedingungen-08-2021.pdf\")\n",
        "# The document contains german text let's use a multilingual fine tuned model from the Hugging Face hub.\n",
        "reco_model = from_hub(\"Felix92/doctr-torch-parseq-multilingual-v1\")\n",
        "model = ocr_predictor(det_arch='fast_base', reco_arch=reco_model, pretrained=True)\n",
        "# we will grab only the first two pages from the pdf for demonstration\n",
        "result = model(docs[:2])\n",
        "result.show()"
      ]
    },
    {
      "cell_type": "markdown",
      "metadata": {
        "id": "MiA8N21GvAXf"
      },
      "source": [
        "## Export as PDF/A\n",
        "In this section we will export our documents as PDF/A files.\n",
        "\n",
        "We show 3 possible options for this."
      ]
    },
    {
      "cell_type": "markdown",
      "metadata": {
        "id": "3LgvG3p7_XIh"
      },
      "source": [
        "### All as single PDF/A file\n",
        "All files will be saved as single file."
      ]
    },
    {
      "cell_type": "code",
      "execution_count": 37,
      "metadata": {
        "id": "2dDy5t1UvAXf"
      },
      "outputs": [],
      "source": [
        "# returns: list of tuple where the first element is the (bytes) xml string and the second is the ElementTree\n",
        "xml_outputs = result.export_as_xml()\n",
        "\n",
        "# iterate through the xml outputs and images and export to pdf/a\n",
        "# the image is optional else you can set invisible_text=False and the text will be printed on a blank page\n",
        "with TemporaryDirectory() as tmpdir:\n",
        "    for i, (xml, img) in enumerate(zip(xml_outputs, docs)):\n",
        "        # write the images temp\n",
        "        Image.fromarray(img).save(os.path.join(tmpdir, f\"{i}.jpg\"))\n",
        "        # write the xml content temp\n",
        "        with open(os.path.join(tmpdir, f\"{i}.xml\"),\"w\") as f :\n",
        "            f.write(xml_outputs[i][0].decode())\n",
        "        # Init hOCR transfomer\n",
        "        hocr = HocrTransform(hocr_filename=os.path.join(tmpdir, f\"{i}.xml\"), dpi=300)\n",
        "        # Save as PDF/A\n",
        "        hocr.to_pdf(out_filename=f\"{i}.pdf\", image_filename=os.path.join(tmpdir, f\"{i}.jpg\"))"
      ]
    },
    {
      "cell_type": "markdown",
      "metadata": {
        "id": "VMgD73uO_XIh"
      },
      "source": [
        "### All merged into one PDF/A file\n",
        "All PDF/A files will be merged into one PDF/A file."
      ]
    },
    {
      "cell_type": "code",
      "execution_count": 38,
      "metadata": {
        "id": "SkEZrL-hvAXg"
      },
      "outputs": [],
      "source": [
        "# returns: list of tuple where the first element is the (bytes) xml string and the second is the ElementTree\n",
        "xml_outputs = result.export_as_xml()\n",
        "\n",
        "# you can also merge multiple pdfs into one\n",
        "\n",
        "merger = PdfMerger()\n",
        "\n",
        "with TemporaryDirectory() as tmpdir:\n",
        "    for i, (xml, img) in enumerate(zip(xml_outputs, docs)):\n",
        "        # write the images temp\n",
        "        Image.fromarray(img).save(os.path.join(tmpdir, f\"{i}.jpg\"))\n",
        "        # write the xml content temp\n",
        "        with open(os.path.join(tmpdir, f\"{i}.xml\"),\"w\") as f :\n",
        "            f.write(xml_outputs[i][0].decode())\n",
        "        # Init hOCR transfomer\n",
        "        hocr = HocrTransform(hocr_filename=os.path.join(tmpdir, f\"{i}.xml\"), dpi=300)\n",
        "        # Save as PDF/A\n",
        "        hocr.to_pdf(out_filename=os.path.join(tmpdir, f\"{i}.pdf\"), image_filename=os.path.join(tmpdir, f\"{i}.jpg\"))\n",
        "        # Append to merger\n",
        "        merger.append(f'{tmpdir}/{i}.pdf')\n",
        "    # Save as combined pdf\n",
        "    merger.write(f'docTR-PDF.pdf')"
      ]
    },
    {
      "cell_type": "markdown",
      "metadata": {
        "id": "jaupVFSW_XIi"
      },
      "source": [
        "### All as base64 encoded PDF/A files\n",
        "All PDF/A files will be saved as base64 strings in a list."
      ]
    },
    {
      "cell_type": "code",
      "execution_count": null,
      "metadata": {
        "id": "owWVIPcKvAXg"
      },
      "outputs": [],
      "source": [
        "# returns: list of tuple where the first element is the (bytes) xml string and the second is the ElementTree\n",
        "xml_outputs = result.export_as_xml()\n",
        "\n",
        "# or encode the pdfs into base64 (Rest API usage)\n",
        "base64_encoded_pdfs = list()\n",
        "\n",
        "with TemporaryDirectory() as tmpdir:\n",
        "    for i, (xml, img) in enumerate(zip(xml_outputs, docs)):\n",
        "        # write the images temp\n",
        "        Image.fromarray(img).save(os.path.join(tmpdir, f\"{i}.jpg\"))\n",
        "        # write the xml content temp\n",
        "        with open(os.path.join(tmpdir, f\"{i}.xml\"),\"w\") as f :\n",
        "            f.write(xml_outputs[i][0].decode())\n",
        "        # Init hOCR transfomer\n",
        "        hocr = HocrTransform(hocr_filename=os.path.join(tmpdir, f\"{i}.xml\"), dpi=300)\n",
        "        # Save as PDF/A\n",
        "        hocr.to_pdf(out_filename=os.path.join(tmpdir, f\"{i}.pdf\"), image_filename=os.path.join(tmpdir, f\"{i}.jpg\"))\n",
        "        with open(os.path.join(tmpdir, f\"{i}.pdf\"), \"rb\") as f:\n",
        "            base64_encoded_pdfs.append(base64.b64encode(f.read()))\n",
        "\n",
        "print(f'{len(base64_encoded_pdfs)} pdfs encoded')"
      ]
    },
    {
      "cell_type": "markdown",
      "metadata": {
        "id": "Fd7UAqBu_XIj"
      },
      "source": [
        "## How can I use a PDF/A?\n",
        "You can open the saved pdf's with any PDF-Viewer and type some words you are searching for in the document.\n",
        "\n",
        "Matches will be highlighted in the text layer.\n",
        "\n",
        "Or you use Python to search, for example words in the text layer."
      ]
    },
    {
      "cell_type": "code",
      "execution_count": null,
      "metadata": {
        "id": "w6enw9Rz_XIj"
      },
      "outputs": [],
      "source": [
        "# search specific words in the pdf and print all matches\n",
        "pattern = \"Allianz\"\n",
        "file_name = \"docTR-PDF.pdf\"\n",
        "\n",
        "reader = PdfReader(file_name)\n",
        "num_pages = len(reader.pages)\n",
        "\n",
        "for i in range(0, num_pages):\n",
        "    page = reader.pages[i]\n",
        "    text = page.extract_text()\n",
        "\n",
        "    for match in re.finditer(pattern, text):\n",
        "        print(f'Page no: {i} | Match: {match}')"
      ]
    },
    {
      "cell_type": "markdown",
      "metadata": {
        "id": "zAe03C8w_XIj"
      },
      "source": [
        "## To go further\n",
        "[Wikipedia PDF/A](https://en.wikipedia.org/wiki/PDF/A)\n",
        "\n",
        "[Difference between PDF/A and PDF](https://askanydifference.com/difference-between-pdf-a-and-pdf/)\n",
        "\n",
        "### Happy Coding :)"
      ]
    }
  ],
  "metadata": {
    "colab": {
      "provenance": []
    },
    "interpreter": {
      "hash": "103ff19777622dbbd1c8370264e2f56c4c49c75e119dc12fd0a9f41eba03d66f"
    },
    "kernelspec": {
      "display_name": "Python 3",
      "language": "python",
      "name": "python3"
    },
    "language_info": {
      "codemirror_mode": {
        "name": "ipython",
        "version": 3
      },
      "file_extension": ".py",
      "mimetype": "text/x-python",
      "name": "python",
      "nbconvert_exporter": "python",
      "pygments_lexer": "ipython3",
      "version": "3.8.8"
    }
  },
  "nbformat": 4,
  "nbformat_minor": 0
}
