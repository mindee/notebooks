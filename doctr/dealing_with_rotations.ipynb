{
 "cells": [
  {
   "cell_type": "markdown",
   "metadata": {},
   "source": [
    "# Dealing with rotated documents\n",
    "\n",
    "Sometimes, you have to deal with rotations on page level or multi-oriented text inside a document. This notebook shows how to deal with such cases using the `docTR` library."
   ]
  },
  {
   "cell_type": "code",
   "execution_count": null,
   "metadata": {
    "vscode": {
     "languageId": "plaintext"
    }
   },
   "outputs": [],
   "source": [
    "# First we have to uninstall the preinstalled tensorflow version if we want to work with PyTorch as backend\n",
    "# because the env variables USE_TORCH=1 / USE_TF=1 doesn't have an effect in Colab\n",
    "!pip uninstall -y tensorflow\n",
    "# Install doctr\n",
    "#!pip install python-doctr[torch,viz]\n",
    "# From source\n",
    "!pip install python-doctr[torch,viz]@git+https://github.com/mindee/doctr.git"
   ]
  },
  {
   "cell_type": "markdown",
   "metadata": {},
   "source": [
    "Let's load such an possible example and see how we can deal with it."
   ]
  },
  {
   "cell_type": "code",
   "execution_count": null,
   "metadata": {
    "vscode": {
     "languageId": "plaintext"
    }
   },
   "outputs": [],
   "source": []
  }
 ],
 "metadata": {
  "language_info": {
   "name": "python"
  }
 },
 "nbformat": 4,
 "nbformat_minor": 2
}
