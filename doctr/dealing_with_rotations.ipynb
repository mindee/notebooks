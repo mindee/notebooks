{
  "cells": [
    {
      "cell_type": "markdown",
      "metadata": {
        "id": "XvNBvlRI0kVk"
      },
      "source": [
        "# Dealing with rotated documents\n",
        "\n",
        "Sometimes, you have to deal with rotations on page level or multi-oriented text inside a document. This notebook shows how to deal with such cases using the `docTR` library."
      ]
    },
    {
      "cell_type": "code",
      "execution_count": null,
      "metadata": {
        "id": "CniRhIKD0kVl"
      },
      "outputs": [],
      "source": [
        "# First we have to uninstall the preinstalled tensorflow version if we want to work with PyTorch as backend\n",
        "# because the env variables USE_TORCH=1 / USE_TF=1 doesn't have an effect in Colab\n",
        "!pip uninstall -y tensorflow\n",
        "# Install doctr\n",
        "#!pip install python-doctr[torch,viz]\n",
        "# From source\n",
        "!pip install python-doctr[torch,viz]@git+https://github.com/mindee/doctr.git"
      ]
    },
    {
      "cell_type": "code",
      "execution_count": 2,
      "metadata": {
        "id": "YVMnvP9K0kVl"
      },
      "outputs": [],
      "source": [
        "# Imports\n",
        "import requests\n",
        "import cv2\n",
        "\n",
        "from doctr.io import DocumentFile\n",
        "from doctr.models import ocr_predictor"
      ]
    },
    {
      "cell_type": "markdown",
      "metadata": {
        "id": "xR4uUzqU0kVm"
      },
      "source": [
        "Let's load such an possible example and see how we can deal with it."
      ]
    },
    {
      "cell_type": "code",
      "execution_count": null,
      "metadata": {
        "vscode": {
          "languageId": "plaintext"
        },
        "id": "hqw2mLEf0kVm"
      },
      "outputs": [],
      "source": [
        "# Download a sample\n",
        "!wget https://github.com/mindee/doctr/releases/download/v0.1.0/back_cover.jpg\n",
        "\n",
        "# Display the image with matplotlib\n",
        "import matplotlib.pyplot as plt\n",
        "\n",
        "img = plt.imread('back_cover.jpg')\n",
        "plt.imshow(img); plt.axis('off'); plt.show()"
      ]
    },
    {
      "cell_type": "markdown",
      "source": [
        "As we can see our document is sligthly rotated.\n",
        "\n",
        "We have several options to deal with it.\n",
        "\n",
        "First we should set `assume_straight_pages` to `False` to indicate that the predictor has to deal with possible rotations.\n",
        "Second we should set `detect_orientation` to `True` to get the orientation appended to our results.\n",
        "\n",
        "If we deal only with small rotations in the range ~45 to -45 we can additionally disable the page orientation classification by setting `disable_page_orientation` to `True` and the same for `disable_crop_orientatio` if our document contains only horizontal text to speed up the pipeline."
      ],
      "metadata": {
        "id": "kJ7vxtF11C7f"
      }
    },
    {
      "cell_type": "code",
      "execution_count": null,
      "metadata": {
        "vscode": {
          "languageId": "plaintext"
        },
        "id": "g4hn2SQ20kVm"
      },
      "outputs": [],
      "source": [
        "doc = DocumentFile.from_images(['back_cover.jpg'])\n",
        "predictor = ocr_predictor(\n",
        "    pretrained=True,\n",
        "    det_arch=\"fast_base\",\n",
        "    reco_arch=\"parseq\",\n",
        "    assume_straight_pages=False,\n",
        "    detect_orientation=True,\n",
        "    disable_crop_orientation=True,\n",
        "    disable_page_orientation=True,\n",
        "    straighten_pages=False\n",
        ")  # .cuda().half() uncomment this line if we run on GPU\n",
        "result = predictor(doc)\n",
        "\n",
        "# Visualize the result\n",
        "result.show()\n",
        "\n",
        "# Export the result to json like dictionary\n",
        "json_export = result.export()\n",
        "print(f\"Detected orientation: {json_export['pages'][0]['orientation']['value']} degrees\")"
      ]
    },
    {
      "cell_type": "markdown",
      "source": [
        "Let's see how it looks if we have to deal with higher rotations and enabled page orientation classification."
      ],
      "metadata": {
        "id": "U1sQWv7f4gjd"
      }
    },
    {
      "cell_type": "code",
      "source": [
        "from doctr.utils.geometry import rotate_image\n",
        "\n",
        "doc = DocumentFile.from_images(['back_cover.jpg'])\n",
        "# Let's rotate the document by 180 degrees\n",
        "doc = [rotate_image(doc[0], 180, expand=False)]\n",
        "\n",
        "predictor = ocr_predictor(\n",
        "    pretrained=True,\n",
        "    det_arch=\"fast_base\",\n",
        "    reco_arch=\"parseq\",\n",
        "    assume_straight_pages=False,\n",
        "    detect_orientation=True,\n",
        "    disable_crop_orientation=False,\n",
        "    disable_page_orientation=False,\n",
        "    straighten_pages=False\n",
        ")  # .cuda().half() uncomment this line if we run on GPU\n",
        "result = predictor(doc)\n",
        "\n",
        "# Visualize the result\n",
        "result.show()\n",
        "\n",
        "# Export the result to json like dictionary\n",
        "json_export = result.export()\n",
        "print(f\"Detected orientation: {json_export['pages'][0]['orientation']['value']} degrees\")"
      ],
      "metadata": {
        "id": "GRNPmIDO4xBh"
      },
      "execution_count": null,
      "outputs": []
    },
    {
      "cell_type": "markdown",
      "source": [
        "Now let's correct this by setting `straighten_pages` to `True`."
      ],
      "metadata": {
        "id": "3U63axmt67R2"
      }
    },
    {
      "cell_type": "code",
      "source": [
        "from doctr.utils.geometry import rotate_image\n",
        "\n",
        "doc = DocumentFile.from_images(['back_cover.jpg'])\n",
        "# Let's rotate the document by 180 degrees\n",
        "doc = [rotate_image(doc[0], 180, expand=False)]\n",
        "\n",
        "predictor = ocr_predictor(\n",
        "    pretrained=True,\n",
        "    det_arch=\"fast_base\",\n",
        "    reco_arch=\"parseq\",\n",
        "    assume_straight_pages=False,\n",
        "    detect_orientation=True,\n",
        "    disable_crop_orientation=False,\n",
        "    disable_page_orientation=False,\n",
        "    straighten_pages=True\n",
        ")  # .cuda().half() uncomment this line if we run on GPU\n",
        "result = predictor(doc)\n",
        "\n",
        "# Visualize the result\n",
        "result.show()\n",
        "\n",
        "# Export the result to json like dictionary\n",
        "json_export = result.export()\n",
        "print(f\"Detected orientation: {json_export['pages'][0]['orientation']['value']} degrees\")\n",
        "print()\n",
        "print(f\"Extracted text:\\n{result.render()}\")"
      ],
      "metadata": {
        "id": "JBXWDkZo6vUl"
      },
      "execution_count": null,
      "outputs": []
    }
  ],
  "metadata": {
    "language_info": {
      "name": "python"
    },
    "colab": {
      "provenance": []
    },
    "kernelspec": {
      "name": "python3",
      "display_name": "Python 3"
    }
  },
  "nbformat": 4,
  "nbformat_minor": 0
}